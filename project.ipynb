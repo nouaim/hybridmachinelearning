{
 "cells": [
  {
   "cell_type": "markdown",
   "metadata": {
    "colab_type": "text",
    "id": "view-in-github"
   },
   "source": [
    "<a href=\"\" target=\"_parent\"><img src=\"https://colab.research.google.com/assets/colab-badge.svg\" alt=\"Open In Colab\"/></a>"
   ]
  },
  {
   "cell_type": "markdown",
   "metadata": {
    "id": "sGfo3BaqXTHI"
   },
   "source": [
    "# Stock Market Prediction using Numerical and Textual Analysis\n"
   ]
  },
  {
   "cell_type": "markdown",
   "metadata": {
    "id": "6jqot9S3ZQbq"
   },
   "source": [
    "## Import the necessary modules, BSESN and News-Headlines data"
   ]
  },
  {
   "cell_type": "code",
   "execution_count": 1,
   "metadata": {
    "colab": {
     "base_uri": "https://localhost:8080/"
    },
    "id": "6v4r-UC33DFm",
    "outputId": "8cc5a0fb-a430-40ed-f020-c4023d0f7807"
   },
   "outputs": [
    {
     "name": "stdout",
     "output_type": "stream",
     "text": [
      "[nltk_data] Downloading package stopwords to /home/nouaim/nltk_data...\n",
      "[nltk_data]   Package stopwords is already up-to-date!\n",
      "[nltk_data] Downloading package vader_lexicon to\n",
      "[nltk_data]     /home/nouaim/nltk_data...\n",
      "[nltk_data]   Package vader_lexicon is already up-to-date!\n"
     ]
    },
    {
     "name": "stderr",
     "output_type": "stream",
     "text": [
      "/home/nouaim/sparks/project5/venv/lib/python3.6/site-packages/nltk/twitter/__init__.py:20: UserWarning: The twython library has not been installed. Some functionality from the twitter package will not be available.\n",
      "  warnings.warn(\"The twython library has not been installed. \"\n"
     ]
    }
   ],
   "source": [
    "import pandas as pd\n",
    "import numpy as np\n",
    "from numpy import concatenate\n",
    "from math import sqrt\n",
    "import matplotlib.pyplot as plt\n",
    "from matplotlib import pyplot\n",
    "import seaborn as sns\n",
    "sns.set_style('whitegrid')\n",
    "plt.style.use(\"fivethirtyeight\")\n",
    "%matplotlib inline\n",
    "import nltk\n",
    "import re\n",
    "from nltk.corpus import stopwords\n",
    "nltk.download('stopwords')\n",
    "nltk.download('vader_lexicon')\n",
    "from textblob import TextBlob\n",
    "from nltk.sentiment.vader import SentimentIntensityAnalyzer\n",
    "from nltk.stem.porter import PorterStemmer\n",
    "ps = PorterStemmer()\n",
    "from sklearn.metrics import mean_squared_error\n",
    "from sklearn.model_selection import train_test_split\n",
    "from sklearn.preprocessing import MinMaxScaler"
   ]
  },
  {
   "cell_type": "markdown",
   "metadata": {},
   "source": [
    "### Visualize stock data"
   ]
  },
  {
   "cell_type": "code",
   "execution_count": 2,
   "metadata": {
    "colab": {
     "base_uri": "https://localhost:8080/",
     "height": 407
    },
    "id": "4EUxdUEnEeeJ",
    "outputId": "9f88653f-10d4-427d-a38a-eec656123fed"
   },
   "outputs": [
    {
     "data": {
      "text/html": [
       "<div>\n",
       "<style scoped>\n",
       "    .dataframe tbody tr th:only-of-type {\n",
       "        vertical-align: middle;\n",
       "    }\n",
       "\n",
       "    .dataframe tbody tr th {\n",
       "        vertical-align: top;\n",
       "    }\n",
       "\n",
       "    .dataframe thead th {\n",
       "        text-align: right;\n",
       "    }\n",
       "</style>\n",
       "<table border=\"1\" class=\"dataframe\">\n",
       "  <thead>\n",
       "    <tr style=\"text-align: right;\">\n",
       "      <th></th>\n",
       "      <th>Date</th>\n",
       "      <th>Open</th>\n",
       "      <th>High</th>\n",
       "      <th>Low</th>\n",
       "      <th>Close</th>\n",
       "      <th>Adj Close</th>\n",
       "      <th>Volume</th>\n",
       "    </tr>\n",
       "  </thead>\n",
       "  <tbody>\n",
       "    <tr>\n",
       "      <th>0</th>\n",
       "      <td>2020-01-14</td>\n",
       "      <td>41883.089844</td>\n",
       "      <td>41994.261719</td>\n",
       "      <td>41770.898438</td>\n",
       "      <td>41952.628906</td>\n",
       "      <td>41952.628906</td>\n",
       "      <td>14100.0</td>\n",
       "    </tr>\n",
       "    <tr>\n",
       "      <th>1</th>\n",
       "      <td>2020-01-15</td>\n",
       "      <td>41969.859375</td>\n",
       "      <td>41969.859375</td>\n",
       "      <td>41648.109375</td>\n",
       "      <td>41872.730469</td>\n",
       "      <td>41872.730469</td>\n",
       "      <td>6100.0</td>\n",
       "    </tr>\n",
       "    <tr>\n",
       "      <th>2</th>\n",
       "      <td>2020-01-16</td>\n",
       "      <td>41924.738281</td>\n",
       "      <td>42059.449219</td>\n",
       "      <td>41812.281250</td>\n",
       "      <td>41932.558594</td>\n",
       "      <td>41932.558594</td>\n",
       "      <td>6600.0</td>\n",
       "    </tr>\n",
       "    <tr>\n",
       "      <th>3</th>\n",
       "      <td>2020-01-17</td>\n",
       "      <td>41929.019531</td>\n",
       "      <td>42063.929688</td>\n",
       "      <td>41850.289063</td>\n",
       "      <td>41945.371094</td>\n",
       "      <td>41945.371094</td>\n",
       "      <td>9500.0</td>\n",
       "    </tr>\n",
       "    <tr>\n",
       "      <th>4</th>\n",
       "      <td>2020-01-20</td>\n",
       "      <td>42263.000000</td>\n",
       "      <td>42273.871094</td>\n",
       "      <td>41503.371094</td>\n",
       "      <td>41528.910156</td>\n",
       "      <td>41528.910156</td>\n",
       "      <td>7500.0</td>\n",
       "    </tr>\n",
       "    <tr>\n",
       "      <th>...</th>\n",
       "      <td>...</td>\n",
       "      <td>...</td>\n",
       "      <td>...</td>\n",
       "      <td>...</td>\n",
       "      <td>...</td>\n",
       "      <td>...</td>\n",
       "      <td>...</td>\n",
       "    </tr>\n",
       "    <tr>\n",
       "      <th>247</th>\n",
       "      <td>2021-01-08</td>\n",
       "      <td>48464.910156</td>\n",
       "      <td>48854.339844</td>\n",
       "      <td>48365.578125</td>\n",
       "      <td>48782.511719</td>\n",
       "      <td>48782.511719</td>\n",
       "      <td>22200.0</td>\n",
       "    </tr>\n",
       "    <tr>\n",
       "      <th>248</th>\n",
       "      <td>2021-01-11</td>\n",
       "      <td>49252.308594</td>\n",
       "      <td>49303.789063</td>\n",
       "      <td>48956.378906</td>\n",
       "      <td>49269.320313</td>\n",
       "      <td>49269.320313</td>\n",
       "      <td>21200.0</td>\n",
       "    </tr>\n",
       "    <tr>\n",
       "      <th>249</th>\n",
       "      <td>2021-01-12</td>\n",
       "      <td>49228.261719</td>\n",
       "      <td>49569.140625</td>\n",
       "      <td>49079.570313</td>\n",
       "      <td>49517.109375</td>\n",
       "      <td>49517.109375</td>\n",
       "      <td>12700.0</td>\n",
       "    </tr>\n",
       "    <tr>\n",
       "      <th>250</th>\n",
       "      <td>2021-01-13</td>\n",
       "      <td>49763.929688</td>\n",
       "      <td>49795.191406</td>\n",
       "      <td>49073.851563</td>\n",
       "      <td>49492.320313</td>\n",
       "      <td>49492.320313</td>\n",
       "      <td>27200.0</td>\n",
       "    </tr>\n",
       "    <tr>\n",
       "      <th>251</th>\n",
       "      <td>2021-01-14</td>\n",
       "      <td>49432.828125</td>\n",
       "      <td>49663.578125</td>\n",
       "      <td>49182.371094</td>\n",
       "      <td>49584.160156</td>\n",
       "      <td>49584.160156</td>\n",
       "      <td>0.0</td>\n",
       "    </tr>\n",
       "  </tbody>\n",
       "</table>\n",
       "<p>252 rows × 7 columns</p>\n",
       "</div>"
      ],
      "text/plain": [
       "           Date          Open          High           Low         Close  \\\n",
       "0    2020-01-14  41883.089844  41994.261719  41770.898438  41952.628906   \n",
       "1    2020-01-15  41969.859375  41969.859375  41648.109375  41872.730469   \n",
       "2    2020-01-16  41924.738281  42059.449219  41812.281250  41932.558594   \n",
       "3    2020-01-17  41929.019531  42063.929688  41850.289063  41945.371094   \n",
       "4    2020-01-20  42263.000000  42273.871094  41503.371094  41528.910156   \n",
       "..          ...           ...           ...           ...           ...   \n",
       "247  2021-01-08  48464.910156  48854.339844  48365.578125  48782.511719   \n",
       "248  2021-01-11  49252.308594  49303.789063  48956.378906  49269.320313   \n",
       "249  2021-01-12  49228.261719  49569.140625  49079.570313  49517.109375   \n",
       "250  2021-01-13  49763.929688  49795.191406  49073.851563  49492.320313   \n",
       "251  2021-01-14  49432.828125  49663.578125  49182.371094  49584.160156   \n",
       "\n",
       "        Adj Close   Volume  \n",
       "0    41952.628906  14100.0  \n",
       "1    41872.730469   6100.0  \n",
       "2    41932.558594   6600.0  \n",
       "3    41945.371094   9500.0  \n",
       "4    41528.910156   7500.0  \n",
       "..            ...      ...  \n",
       "247  48782.511719  22200.0  \n",
       "248  49269.320313  21200.0  \n",
       "249  49517.109375  12700.0  \n",
       "250  49492.320313  27200.0  \n",
       "251  49584.160156      0.0  \n",
       "\n",
       "[252 rows x 7 columns]"
      ]
     },
     "execution_count": 2,
     "metadata": {},
     "output_type": "execute_result"
    }
   ],
   "source": [
    "df_prices = pd.read_csv('data/BSESN.csv')\n",
    "df_prices"
   ]
  },
  {
   "cell_type": "code",
   "execution_count": 3,
   "metadata": {},
   "outputs": [
    {
     "data": {
      "text/plain": [
       "Text(0.5, 1.0, 'BSESN')"
      ]
     },
     "execution_count": 3,
     "metadata": {},
     "output_type": "execute_result"
    },
    {
     "data": {
      "text/plain": [
       "<Figure size 72x0 with 0 Axes>"
      ]
     },
     "metadata": {},
     "output_type": "display_data"
    },
    {
     "data": {
      "image/png": "[encoded data removed]",
      "text/plain": [
       "<Figure size 432x288 with 1 Axes>"
      ]
     },
     "metadata": {
      "needs_background": "light"
     },
     "output_type": "display_data"
    }
   ],
   "source": [
    "# Historical graph for the closing price\n",
    "import matplotlib.pyplot as plt\n",
    "plt.figure(figsize=(1, 0))\n",
    "df_prices.plot(x='Date', y='Adj Close',label=\"adgclose\",color=\"Red\", linewidth=2, markersize=10)\n",
    "plt.ylabel('Adj Close')\n",
    "plt.xlabel(\"Date\")\n",
    "plt.title(\"BSESN\")"
   ]
  },
  {
   "cell_type": "code",
   "execution_count": 4,
   "metadata": {},
   "outputs": [
    {
     "data": {
      "text/plain": [
       "Text(0.5, 1.0, 'BSESN')"
      ]
     },
     "execution_count": 4,
     "metadata": {},
     "output_type": "execute_result"
    },
    {
     "data": {
      "image/png": "[encoded data removed]",
      "text/plain": [
       "<Figure size 432x288 with 1 Axes>"
      ]
     },
     "metadata": {
      "needs_background": "light"
     },
     "output_type": "display_data"
    }
   ],
   "source": [
    "# Plot the total volume of stock being traded each day\n",
    "df_prices.plot(x='Date', y='Volume',label=\"volume\",color=\"Blue\", linewidth=2, markersize=10)\n",
    "plt.ylabel('Volume')\n",
    "plt.xlabel(\"Date\")\n",
    "plt.title(\"BSESN\")"
   ]
  },
  {
   "cell_type": "code",
   "execution_count": 5,
   "metadata": {},
   "outputs": [
    {
     "data": {
      "text/plain": [
       "array([[<AxesSubplot:title={'center':'Open'}>,\n",
       "        <AxesSubplot:title={'center':'High'}>],\n",
       "       [<AxesSubplot:title={'center':'Low'}>,\n",
       "        <AxesSubplot:title={'center':'Close'}>],\n",
       "       [<AxesSubplot:title={'center':'Adj Close'}>,\n",
       "        <AxesSubplot:title={'center':'Volume'}>]], dtype=object)"
      ]
     },
     "execution_count": 5,
     "metadata": {},
     "output_type": "execute_result"
    },
    {
     "data": {
      "image/png": "[encoded data removed]",
      "text/plain": [
       "<Figure size 864x864 with 6 Axes>"
      ]
     },
     "metadata": {
      "needs_background": "light"
     },
     "output_type": "display_data"
    }
   ],
   "source": [
    "df_prices.hist(figsize=(12, 12),color='seagreen')"
   ]
  },
  {
   "cell_type": "markdown",
   "metadata": {},
   "source": [
    "### Visualize News data"
   ]
  },
  {
   "cell_type": "code",
   "execution_count": 6,
   "metadata": {
    "colab": {
     "base_uri": "https://localhost:8080/",
     "height": 407
    },
    "id": "FPIr2r4QdRGu",
    "outputId": "27d94e5c-a440-465d-f1b9-1b82e094ad42"
   },
   "outputs": [
    {
     "data": {
      "text/html": [
       "<div>\n",
       "<style scoped>\n",
       "    .dataframe tbody tr th:only-of-type {\n",
       "        vertical-align: middle;\n",
       "    }\n",
       "\n",
       "    .dataframe tbody tr th {\n",
       "        vertical-align: top;\n",
       "    }\n",
       "\n",
       "    .dataframe thead th {\n",
       "        text-align: right;\n",
       "    }\n",
       "</style>\n",
       "<table border=\"1\" class=\"dataframe\">\n",
       "  <thead>\n",
       "    <tr style=\"text-align: right;\">\n",
       "      <th></th>\n",
       "      <th>Date</th>\n",
       "      <th>Category</th>\n",
       "      <th>News</th>\n",
       "    </tr>\n",
       "  </thead>\n",
       "  <tbody>\n",
       "    <tr>\n",
       "      <th>0</th>\n",
       "      <td>20200101</td>\n",
       "      <td>life-style.events</td>\n",
       "      <td>Happy New Year 2020: Images; Quotes; Wishes; M...</td>\n",
       "    </tr>\n",
       "    <tr>\n",
       "      <th>1</th>\n",
       "      <td>20200101</td>\n",
       "      <td>city.bhubaneswar</td>\n",
       "      <td>Bone-clling cold wavecontinues to sweep state</td>\n",
       "    </tr>\n",
       "    <tr>\n",
       "      <th>2</th>\n",
       "      <td>20200101</td>\n",
       "      <td>city.hyderabad</td>\n",
       "      <td>T gained 163 sq km forest cover</td>\n",
       "    </tr>\n",
       "    <tr>\n",
       "      <th>3</th>\n",
       "      <td>20200101</td>\n",
       "      <td>city.hyderabad</td>\n",
       "      <td>Draft electoral rolls published</td>\n",
       "    </tr>\n",
       "    <tr>\n",
       "      <th>4</th>\n",
       "      <td>20200101</td>\n",
       "      <td>city.koc</td>\n",
       "      <td>Invasive species increasing in Kerala's core f...</td>\n",
       "    </tr>\n",
       "  </tbody>\n",
       "</table>\n",
       "</div>"
      ],
      "text/plain": [
       "       Date           Category  \\\n",
       "0  20200101  life-style.events   \n",
       "1  20200101   city.bhubaneswar   \n",
       "2  20200101     city.hyderabad   \n",
       "3  20200101     city.hyderabad   \n",
       "4  20200101           city.koc   \n",
       "\n",
       "                                                News  \n",
       "0  Happy New Year 2020: Images; Quotes; Wishes; M...  \n",
       "1      Bone-clling cold wavecontinues to sweep state  \n",
       "2                    T gained 163 sq km forest cover  \n",
       "3                    Draft electoral rolls published  \n",
       "4  Invasive species increasing in Kerala's core f...  "
      ]
     },
     "execution_count": 6,
     "metadata": {},
     "output_type": "execute_result"
    }
   ],
   "source": [
    "cols = ['Date','Category','News']\n",
    "df_news = pd.read_csv('data/india-news-headlines.csv', names = cols)\n",
    "df_news = df_news.dropna(axis = 0, how ='any') \n",
    "df_news.head()"
   ]
  },
  {
   "cell_type": "markdown",
   "metadata": {
    "id": "suUYrOj7bHi3"
   },
   "source": [
    "## Cleaning and Pre-processing"
   ]
  },
  {
   "cell_type": "code",
   "execution_count": 7,
   "metadata": {
    "id": "Tp3NSpsgeMib"
   },
   "outputs": [],
   "source": [
    "# Dropping None values, and the Category column as they are not required for the analysis.\n",
    "df_news.drop(0, inplace=True)\n",
    "df_news.drop('Category', axis = 1, inplace=True)"
   ]
  },
  {
   "cell_type": "code",
   "execution_count": 8,
   "metadata": {
    "colab": {
     "base_uri": "https://localhost:8080/",
     "height": 407
    },
    "id": "PVowb1Qm2ezi",
    "outputId": "784dcee0-af3f-44ee-9ae5-e565a1a5806c"
   },
   "outputs": [
    {
     "data": {
      "text/html": [
       "<div>\n",
       "<style scoped>\n",
       "    .dataframe tbody tr th:only-of-type {\n",
       "        vertical-align: middle;\n",
       "    }\n",
       "\n",
       "    .dataframe tbody tr th {\n",
       "        vertical-align: top;\n",
       "    }\n",
       "\n",
       "    .dataframe thead th {\n",
       "        text-align: right;\n",
       "    }\n",
       "</style>\n",
       "<table border=\"1\" class=\"dataframe\">\n",
       "  <thead>\n",
       "    <tr style=\"text-align: right;\">\n",
       "      <th></th>\n",
       "      <th>Date</th>\n",
       "      <th>News</th>\n",
       "    </tr>\n",
       "  </thead>\n",
       "  <tbody>\n",
       "    <tr>\n",
       "      <th>1</th>\n",
       "      <td>2020-01-01</td>\n",
       "      <td>Bone-clling cold wavecontinues to sweep state</td>\n",
       "    </tr>\n",
       "    <tr>\n",
       "      <th>2</th>\n",
       "      <td>2020-01-01</td>\n",
       "      <td>T gained 163 sq km forest cover</td>\n",
       "    </tr>\n",
       "    <tr>\n",
       "      <th>3</th>\n",
       "      <td>2020-01-01</td>\n",
       "      <td>Draft electoral rolls published</td>\n",
       "    </tr>\n",
       "    <tr>\n",
       "      <th>4</th>\n",
       "      <td>2020-01-01</td>\n",
       "      <td>Invasive species increasing in Kerala's core f...</td>\n",
       "    </tr>\n",
       "    <tr>\n",
       "      <th>5</th>\n",
       "      <td>2020-01-01</td>\n",
       "      <td>Onion price in Hyd dips to Rs 90/kg</td>\n",
       "    </tr>\n",
       "  </tbody>\n",
       "</table>\n",
       "</div>"
      ],
      "text/plain": [
       "        Date                                               News\n",
       "1 2020-01-01      Bone-clling cold wavecontinues to sweep state\n",
       "2 2020-01-01                    T gained 163 sq km forest cover\n",
       "3 2020-01-01                    Draft electoral rolls published\n",
       "4 2020-01-01  Invasive species increasing in Kerala's core f...\n",
       "5 2020-01-01                Onion price in Hyd dips to Rs 90/kg"
      ]
     },
     "execution_count": 8,
     "metadata": {},
     "output_type": "execute_result"
    }
   ],
   "source": [
    "# Converting 'Date' columns from both dataframes to type datetime\n",
    "df_news['Date'] = pd.to_datetime(df_news['Date'],format= '%Y%m%d')\n",
    "df_news.head()"
   ]
  },
  {
   "cell_type": "code",
   "execution_count": 9,
   "metadata": {},
   "outputs": [
    {
     "data": {
      "text/plain": [
       "(90872, 2)"
      ]
     },
     "execution_count": 9,
     "metadata": {},
     "output_type": "execute_result"
    }
   ],
   "source": [
    "df_news.shape"
   ]
  },
  {
   "cell_type": "code",
   "execution_count": 10,
   "metadata": {},
   "outputs": [
    {
     "data": {
      "text/html": [
       "<div>\n",
       "<style scoped>\n",
       "    .dataframe tbody tr th:only-of-type {\n",
       "        vertical-align: middle;\n",
       "    }\n",
       "\n",
       "    .dataframe tbody tr th {\n",
       "        vertical-align: top;\n",
       "    }\n",
       "\n",
       "    .dataframe thead th {\n",
       "        text-align: right;\n",
       "    }\n",
       "</style>\n",
       "<table border=\"1\" class=\"dataframe\">\n",
       "  <thead>\n",
       "    <tr style=\"text-align: right;\">\n",
       "      <th></th>\n",
       "      <th>Date</th>\n",
       "      <th>Open</th>\n",
       "      <th>High</th>\n",
       "      <th>Low</th>\n",
       "      <th>Close</th>\n",
       "      <th>Adj Close</th>\n",
       "      <th>Volume</th>\n",
       "    </tr>\n",
       "  </thead>\n",
       "  <tbody>\n",
       "    <tr>\n",
       "      <th>0</th>\n",
       "      <td>2020-01-14</td>\n",
       "      <td>41883.089844</td>\n",
       "      <td>41994.261719</td>\n",
       "      <td>41770.898438</td>\n",
       "      <td>41952.628906</td>\n",
       "      <td>41952.628906</td>\n",
       "      <td>14100.0</td>\n",
       "    </tr>\n",
       "    <tr>\n",
       "      <th>1</th>\n",
       "      <td>2020-01-15</td>\n",
       "      <td>41969.859375</td>\n",
       "      <td>41969.859375</td>\n",
       "      <td>41648.109375</td>\n",
       "      <td>41872.730469</td>\n",
       "      <td>41872.730469</td>\n",
       "      <td>6100.0</td>\n",
       "    </tr>\n",
       "    <tr>\n",
       "      <th>2</th>\n",
       "      <td>2020-01-16</td>\n",
       "      <td>41924.738281</td>\n",
       "      <td>42059.449219</td>\n",
       "      <td>41812.281250</td>\n",
       "      <td>41932.558594</td>\n",
       "      <td>41932.558594</td>\n",
       "      <td>6600.0</td>\n",
       "    </tr>\n",
       "    <tr>\n",
       "      <th>3</th>\n",
       "      <td>2020-01-17</td>\n",
       "      <td>41929.019531</td>\n",
       "      <td>42063.929688</td>\n",
       "      <td>41850.289063</td>\n",
       "      <td>41945.371094</td>\n",
       "      <td>41945.371094</td>\n",
       "      <td>9500.0</td>\n",
       "    </tr>\n",
       "    <tr>\n",
       "      <th>4</th>\n",
       "      <td>2020-01-20</td>\n",
       "      <td>42263.000000</td>\n",
       "      <td>42273.871094</td>\n",
       "      <td>41503.371094</td>\n",
       "      <td>41528.910156</td>\n",
       "      <td>41528.910156</td>\n",
       "      <td>7500.0</td>\n",
       "    </tr>\n",
       "  </tbody>\n",
       "</table>\n",
       "</div>"
      ],
      "text/plain": [
       "        Date          Open          High           Low         Close  \\\n",
       "0 2020-01-14  41883.089844  41994.261719  41770.898438  41952.628906   \n",
       "1 2020-01-15  41969.859375  41969.859375  41648.109375  41872.730469   \n",
       "2 2020-01-16  41924.738281  42059.449219  41812.281250  41932.558594   \n",
       "3 2020-01-17  41929.019531  42063.929688  41850.289063  41945.371094   \n",
       "4 2020-01-20  42263.000000  42273.871094  41503.371094  41528.910156   \n",
       "\n",
       "      Adj Close   Volume  \n",
       "0  41952.628906  14100.0  \n",
       "1  41872.730469   6100.0  \n",
       "2  41932.558594   6600.0  \n",
       "3  41945.371094   9500.0  \n",
       "4  41528.910156   7500.0  "
      ]
     },
     "execution_count": 10,
     "metadata": {},
     "output_type": "execute_result"
    }
   ],
   "source": [
    "df_prices['Date'] = pd.to_datetime(df_prices['Date'])\n",
    "df_prices.head()"
   ]
  },
  {
   "cell_type": "code",
   "execution_count": 11,
   "metadata": {},
   "outputs": [
    {
     "data": {
      "text/plain": [
       "(252, 7)"
      ]
     },
     "execution_count": 11,
     "metadata": {},
     "output_type": "execute_result"
    }
   ],
   "source": [
    "df_prices.shape"
   ]
  },
  {
   "cell_type": "code",
   "execution_count": 12,
   "metadata": {
    "colab": {
     "base_uri": "https://localhost:8080/",
     "height": 407
    },
    "id": "qzI3u7KJ2lVP",
    "outputId": "b54412ac-630b-426f-d93e-877e00c9bc71"
   },
   "outputs": [
    {
     "data": {
      "text/plain": [
       "(182, 2)"
      ]
     },
     "execution_count": 12,
     "metadata": {},
     "output_type": "execute_result"
    }
   ],
   "source": [
    "df_news['News'] = df_news.groupby(['Date']).transform(lambda x : ' '.join(x)) \n",
    "df_news = df_news.drop_duplicates() \n",
    "df_news.reset_index(inplace = True, drop = True)\n",
    "df_news.shape"
   ]
  },
  {
   "cell_type": "code",
   "execution_count": 13,
   "metadata": {
    "colab": {
     "base_uri": "https://localhost:8080/"
    },
    "id": "4jxMFBGx2qJw",
    "outputId": "848d478a-9a5b-4b90-d7ab-edcc6581b276"
   },
   "outputs": [],
   "source": [
    "# Cleaning the headlines\n",
    "clean = []\n",
    "\n",
    "for i in range(0,len(df_news['News'])):\n",
    "    news = re.sub('[^a-zA-Z]',' ',df_news['News'][i])\n",
    "    news = news.lower()\n",
    "    news = news.split()\n",
    "    news = [ps.stem(word) for word in news if not word in set(stopwords.words('english'))]\n",
    "    news=' '.join(news)\n",
    "    clean.append(news)    "
   ]
  },
  {
   "cell_type": "code",
   "execution_count": 14,
   "metadata": {
    "colab": {
     "base_uri": "https://localhost:8080/",
     "height": 516
    },
    "id": "80NywnJy2q6u",
    "outputId": "559b787d-bcbf-4a5e-8f95-bab03f8dcac2"
   },
   "outputs": [
    {
     "data": {
      "text/html": [
       "<div>\n",
       "<style scoped>\n",
       "    .dataframe tbody tr th:only-of-type {\n",
       "        vertical-align: middle;\n",
       "    }\n",
       "\n",
       "    .dataframe tbody tr th {\n",
       "        vertical-align: top;\n",
       "    }\n",
       "\n",
       "    .dataframe thead th {\n",
       "        text-align: right;\n",
       "    }\n",
       "</style>\n",
       "<table border=\"1\" class=\"dataframe\">\n",
       "  <thead>\n",
       "    <tr style=\"text-align: right;\">\n",
       "      <th></th>\n",
       "      <th>Date</th>\n",
       "      <th>News</th>\n",
       "    </tr>\n",
       "  </thead>\n",
       "  <tbody>\n",
       "    <tr>\n",
       "      <th>0</th>\n",
       "      <td>2020-01-01</td>\n",
       "      <td>bone clling cold wavecontinu sweep state gain ...</td>\n",
       "    </tr>\n",
       "    <tr>\n",
       "      <th>1</th>\n",
       "      <td>2020-01-02</td>\n",
       "      <td>horoscop today januari read predict ari tauru ...</td>\n",
       "    </tr>\n",
       "    <tr>\n",
       "      <th>2</th>\n",
       "      <td>2020-01-03</td>\n",
       "      <td>bank holiday mazya navryac bayko updat januari...</td>\n",
       "    </tr>\n",
       "    <tr>\n",
       "      <th>3</th>\n",
       "      <td>2020-01-04</td>\n",
       "      <td>mamta mohanda play nurs lalbagh tolli celeb op...</td>\n",
       "    </tr>\n",
       "    <tr>\n",
       "      <th>4</th>\n",
       "      <td>2020-01-05</td>\n",
       "      <td>home beauti blue live diet induc sound sleep y...</td>\n",
       "    </tr>\n",
       "  </tbody>\n",
       "</table>\n",
       "</div>"
      ],
      "text/plain": [
       "        Date                                               News\n",
       "0 2020-01-01  bone clling cold wavecontinu sweep state gain ...\n",
       "1 2020-01-02  horoscop today januari read predict ari tauru ...\n",
       "2 2020-01-03  bank holiday mazya navryac bayko updat januari...\n",
       "3 2020-01-04  mamta mohanda play nurs lalbagh tolli celeb op...\n",
       "4 2020-01-05  home beauti blue live diet induc sound sleep y..."
      ]
     },
     "execution_count": 14,
     "metadata": {},
     "output_type": "execute_result"
    }
   ],
   "source": [
    "df_news['News'] = pd.Series(clean)\n",
    "df_news.head()"
   ]
  },
  {
   "cell_type": "markdown",
   "metadata": {
    "id": "bGKd6qvAcIUh"
   },
   "source": [
    "## Calculating Subjectivity and Polarity scores with TextBlob"
   ]
  },
  {
   "cell_type": "code",
   "execution_count": 15,
   "metadata": {
    "id": "9o0yogHo221J"
   },
   "outputs": [],
   "source": [
    "# Defining subjectivity and polarity\n",
    "def getSubjectivity(text):\n",
    "  return TextBlob(text).sentiment.subjectivity\n",
    "\n",
    "def getPolarity(text):\n",
    "  return  TextBlob(text).sentiment.polarity"
   ]
  },
  {
   "cell_type": "code",
   "execution_count": 16,
   "metadata": {
    "colab": {
     "base_uri": "https://localhost:8080/",
     "height": 625
    },
    "id": "oHeo3Wgd24i5",
    "outputId": "54afd952-3a5f-4096-f1b5-6ad9626494a5"
   },
   "outputs": [
    {
     "data": {
      "text/html": [
       "<div>\n",
       "<style scoped>\n",
       "    .dataframe tbody tr th:only-of-type {\n",
       "        vertical-align: middle;\n",
       "    }\n",
       "\n",
       "    .dataframe tbody tr th {\n",
       "        vertical-align: top;\n",
       "    }\n",
       "\n",
       "    .dataframe thead th {\n",
       "        text-align: right;\n",
       "    }\n",
       "</style>\n",
       "<table border=\"1\" class=\"dataframe\">\n",
       "  <thead>\n",
       "    <tr style=\"text-align: right;\">\n",
       "      <th></th>\n",
       "      <th>Date</th>\n",
       "      <th>News</th>\n",
       "      <th>Subjectivity</th>\n",
       "      <th>Polarity</th>\n",
       "    </tr>\n",
       "  </thead>\n",
       "  <tbody>\n",
       "    <tr>\n",
       "      <th>0</th>\n",
       "      <td>2020-01-01</td>\n",
       "      <td>bone clling cold wavecontinu sweep state gain ...</td>\n",
       "      <td>0.407322</td>\n",
       "      <td>0.040349</td>\n",
       "    </tr>\n",
       "    <tr>\n",
       "      <th>1</th>\n",
       "      <td>2020-01-02</td>\n",
       "      <td>horoscop today januari read predict ari tauru ...</td>\n",
       "      <td>0.410638</td>\n",
       "      <td>0.078692</td>\n",
       "    </tr>\n",
       "    <tr>\n",
       "      <th>2</th>\n",
       "      <td>2020-01-03</td>\n",
       "      <td>bank holiday mazya navryac bayko updat januari...</td>\n",
       "      <td>0.370711</td>\n",
       "      <td>0.085875</td>\n",
       "    </tr>\n",
       "    <tr>\n",
       "      <th>3</th>\n",
       "      <td>2020-01-04</td>\n",
       "      <td>mamta mohanda play nurs lalbagh tolli celeb op...</td>\n",
       "      <td>0.389496</td>\n",
       "      <td>0.126830</td>\n",
       "    </tr>\n",
       "    <tr>\n",
       "      <th>4</th>\n",
       "      <td>2020-01-05</td>\n",
       "      <td>home beauti blue live diet induc sound sleep y...</td>\n",
       "      <td>0.350895</td>\n",
       "      <td>0.093071</td>\n",
       "    </tr>\n",
       "  </tbody>\n",
       "</table>\n",
       "</div>"
      ],
      "text/plain": [
       "        Date                                               News  Subjectivity  \\\n",
       "0 2020-01-01  bone clling cold wavecontinu sweep state gain ...      0.407322   \n",
       "1 2020-01-02  horoscop today januari read predict ari tauru ...      0.410638   \n",
       "2 2020-01-03  bank holiday mazya navryac bayko updat januari...      0.370711   \n",
       "3 2020-01-04  mamta mohanda play nurs lalbagh tolli celeb op...      0.389496   \n",
       "4 2020-01-05  home beauti blue live diet induc sound sleep y...      0.350895   \n",
       "\n",
       "   Polarity  \n",
       "0  0.040349  \n",
       "1  0.078692  \n",
       "2  0.085875  \n",
       "3  0.126830  \n",
       "4  0.093071  "
      ]
     },
     "execution_count": 16,
     "metadata": {},
     "output_type": "execute_result"
    }
   ],
   "source": [
    "# Inserting subjectivity and polarity columns\n",
    "df_news['Subjectivity'] = df_news['News'].apply(getSubjectivity)\n",
    "df_news['Polarity'] = df_news['News'].apply(getPolarity)\n",
    "df_news.head()"
   ]
  },
  {
   "cell_type": "markdown",
   "metadata": {
    "id": "rArXz_sXcZvR"
   },
   "source": [
    "## Sentimental Analysis for News Headlines"
   ]
  },
  {
   "cell_type": "code",
   "execution_count": 17,
   "metadata": {
    "colab": {
     "base_uri": "https://localhost:8080/",
     "height": 844
    },
    "id": "fkaiMxwe3K09",
    "outputId": "aafa789e-fe66-4b17-fccd-c328d8c49199"
   },
   "outputs": [
    {
     "data": {
      "text/html": [
       "<div>\n",
       "<style scoped>\n",
       "    .dataframe tbody tr th:only-of-type {\n",
       "        vertical-align: middle;\n",
       "    }\n",
       "\n",
       "    .dataframe tbody tr th {\n",
       "        vertical-align: top;\n",
       "    }\n",
       "\n",
       "    .dataframe thead th {\n",
       "        text-align: right;\n",
       "    }\n",
       "</style>\n",
       "<table border=\"1\" class=\"dataframe\">\n",
       "  <thead>\n",
       "    <tr style=\"text-align: right;\">\n",
       "      <th></th>\n",
       "      <th>Date</th>\n",
       "      <th>News</th>\n",
       "      <th>Subjectivity</th>\n",
       "      <th>Polarity</th>\n",
       "      <th>Compound</th>\n",
       "      <th>Negative</th>\n",
       "      <th>Neutral</th>\n",
       "      <th>Positive</th>\n",
       "    </tr>\n",
       "  </thead>\n",
       "  <tbody>\n",
       "    <tr>\n",
       "      <th>0</th>\n",
       "      <td>2020-01-01</td>\n",
       "      <td>bone clling cold wavecontinu sweep state gain ...</td>\n",
       "      <td>0.407322</td>\n",
       "      <td>0.040349</td>\n",
       "      <td>-0.9998</td>\n",
       "      <td>0.151</td>\n",
       "      <td>0.777</td>\n",
       "      <td>0.071</td>\n",
       "    </tr>\n",
       "    <tr>\n",
       "      <th>1</th>\n",
       "      <td>2020-01-02</td>\n",
       "      <td>horoscop today januari read predict ari tauru ...</td>\n",
       "      <td>0.410638</td>\n",
       "      <td>0.078692</td>\n",
       "      <td>-0.9998</td>\n",
       "      <td>0.155</td>\n",
       "      <td>0.766</td>\n",
       "      <td>0.079</td>\n",
       "    </tr>\n",
       "    <tr>\n",
       "      <th>2</th>\n",
       "      <td>2020-01-03</td>\n",
       "      <td>bank holiday mazya navryac bayko updat januari...</td>\n",
       "      <td>0.370711</td>\n",
       "      <td>0.085875</td>\n",
       "      <td>-0.9994</td>\n",
       "      <td>0.122</td>\n",
       "      <td>0.790</td>\n",
       "      <td>0.088</td>\n",
       "    </tr>\n",
       "    <tr>\n",
       "      <th>3</th>\n",
       "      <td>2020-01-04</td>\n",
       "      <td>mamta mohanda play nurs lalbagh tolli celeb op...</td>\n",
       "      <td>0.389496</td>\n",
       "      <td>0.126830</td>\n",
       "      <td>-0.9998</td>\n",
       "      <td>0.146</td>\n",
       "      <td>0.780</td>\n",
       "      <td>0.074</td>\n",
       "    </tr>\n",
       "    <tr>\n",
       "      <th>4</th>\n",
       "      <td>2020-01-05</td>\n",
       "      <td>home beauti blue live diet induc sound sleep y...</td>\n",
       "      <td>0.350895</td>\n",
       "      <td>0.093071</td>\n",
       "      <td>-0.9999</td>\n",
       "      <td>0.156</td>\n",
       "      <td>0.772</td>\n",
       "      <td>0.072</td>\n",
       "    </tr>\n",
       "  </tbody>\n",
       "</table>\n",
       "</div>"
      ],
      "text/plain": [
       "        Date                                               News  Subjectivity  \\\n",
       "0 2020-01-01  bone clling cold wavecontinu sweep state gain ...      0.407322   \n",
       "1 2020-01-02  horoscop today januari read predict ari tauru ...      0.410638   \n",
       "2 2020-01-03  bank holiday mazya navryac bayko updat januari...      0.370711   \n",
       "3 2020-01-04  mamta mohanda play nurs lalbagh tolli celeb op...      0.389496   \n",
       "4 2020-01-05  home beauti blue live diet induc sound sleep y...      0.350895   \n",
       "\n",
       "   Polarity  Compound  Negative  Neutral  Positive  \n",
       "0  0.040349   -0.9998     0.151    0.777     0.071  \n",
       "1  0.078692   -0.9998     0.155    0.766     0.079  \n",
       "2  0.085875   -0.9994     0.122    0.790     0.088  \n",
       "3  0.126830   -0.9998     0.146    0.780     0.074  \n",
       "4  0.093071   -0.9999     0.156    0.772     0.072  "
      ]
     },
     "execution_count": 17,
     "metadata": {},
     "output_type": "execute_result"
    }
   ],
   "source": [
    "#Adding sentiment score to df_news\n",
    "sia = SentimentIntensityAnalyzer()\n",
    "\n",
    "df_news['Compound'] = [sia.polarity_scores(v)['compound'] for v in df_news['News']]\n",
    "df_news['Negative'] = [sia.polarity_scores(v)['neg'] for v in df_news['News']]\n",
    "df_news['Neutral'] = [sia.polarity_scores(v)['neu'] for v in df_news['News']]\n",
    "df_news['Positive'] = [sia.polarity_scores(v)['pos'] for v in df_news['News']]\n",
    "df_news.head()"
   ]
  },
  {
   "cell_type": "markdown",
   "metadata": {
    "id": "daD24wwDcj1p"
   },
   "source": [
    "## Use Sentimental Analysis predictions +  historical prices data to predict stock prices using Multivariate Time Series Forecasting"
   ]
  },
  {
   "cell_type": "code",
   "execution_count": 18,
   "metadata": {
    "colab": {
     "base_uri": "https://localhost:8080/"
    },
    "id": "3W4nk2yc3LE4",
    "outputId": "97cb65d6-b510-46b3-c4bc-9fd27181032f"
   },
   "outputs": [
    {
     "name": "stdout",
     "output_type": "stream",
     "text": [
      "          Date          Open          High           Low         Close  \\\n",
      "0   2020-01-14  41883.089844  41994.261719  41770.898438  41952.628906   \n",
      "1   2020-01-15  41969.859375  41969.859375  41648.109375  41872.730469   \n",
      "2   2020-01-16  41924.738281  42059.449219  41812.281250  41932.558594   \n",
      "3   2020-01-17  41929.019531  42063.929688  41850.289063  41945.371094   \n",
      "4   2020-01-20  42263.000000  42273.871094  41503.371094  41528.910156   \n",
      "..         ...           ...           ...           ...           ...   \n",
      "247 2021-01-08  48464.910156  48854.339844  48365.578125  48782.511719   \n",
      "248 2021-01-11  49252.308594  49303.789063  48956.378906  49269.320313   \n",
      "249 2021-01-12  49228.261719  49569.140625  49079.570313  49517.109375   \n",
      "250 2021-01-13  49763.929688  49795.191406  49073.851563  49492.320313   \n",
      "251 2021-01-14  49432.828125  49663.578125  49182.371094  49584.160156   \n",
      "\n",
      "        Adj Close   Volume  \n",
      "0    41952.628906  14100.0  \n",
      "1    41872.730469   6100.0  \n",
      "2    41932.558594   6600.0  \n",
      "3    41945.371094   9500.0  \n",
      "4    41528.910156   7500.0  \n",
      "..            ...      ...  \n",
      "247  48782.511719  22200.0  \n",
      "248  49269.320313  21200.0  \n",
      "249  49517.109375  12700.0  \n",
      "250  49492.320313  27200.0  \n",
      "251  49584.160156      0.0  \n",
      "\n",
      "[252 rows x 7 columns]\n"
     ]
    }
   ],
   "source": [
    "# Merging our findings (the updated News dataframe) with the Prices dataframe\n",
    "df_merge = pd.merge(df_prices, df_news, how='inner', on='Date')\n",
    "print(df_prices)\n",
    "df_merge.drop('Date', axis = 1, inplace=True)\n",
    "df_merge.drop('News', axis=1, inplace=True)"
   ]
  },
  {
   "cell_type": "code",
   "execution_count": 19,
   "metadata": {},
   "outputs": [
    {
     "name": "stdout",
     "output_type": "stream",
     "text": [
      "Index(['Open', 'High', 'Low', 'Close', 'Adj Close', 'Volume', 'Subjectivity',\n",
      "       'Polarity', 'Compound', 'Negative', 'Neutral', 'Positive'],\n",
      "      dtype='object')\n"
     ]
    }
   ],
   "source": [
    "print(df_merge.columns)"
   ]
  },
  {
   "cell_type": "code",
   "execution_count": 20,
   "metadata": {
    "id": "ecrFu9_yTHtH"
   },
   "outputs": [],
   "source": [
    "# Getting data series ready for Multivariate Time Series Forecasting\n",
    "from pandas import DataFrame as df\n",
    "from pandas import concat\n",
    "def series_to_supervised(data, n_in=1, n_out=1, dropnan=True):\n",
    "    n_vars = 1 if type(data) is list else data.shape[1]\n",
    "    df1 = df(data)\n",
    "    cols, names = list(), list()\n",
    "    # input sequence (t-n, ... t-1)\n",
    "    for i in range(n_in, 0, -1):\n",
    "        cols.append(df1.shift(i))\n",
    "        names += [('var%d(t-%d)' % (j+1, i)) for j in range(n_vars)]\n",
    "    # forecast sequence (t, t+1, ... t+n)\n",
    "    for i in range(0, n_out):\n",
    "        cols.append(df1.shift(-i))\n",
    "        if i == 0:\n",
    "            names += [('var%d(t)' % (j+1)) for j in range(n_vars)]\n",
    "        else:\n",
    "            names += [('var%d(t+%d)' % (j+1, i)) for j in range(n_vars)]\n",
    "    # put it all together\n",
    "    agg = concat(cols, axis=1)\n",
    "    agg.columns = names\n",
    "    # drop rows with NaN values\n",
    "    if dropnan:\n",
    "        agg.dropna(inplace=True)\n",
    "    return agg"
   ]
  },
  {
   "cell_type": "code",
   "execution_count": 21,
   "metadata": {
    "colab": {
     "base_uri": "https://localhost:8080/"
    },
    "id": "WfBvsX8mTM1p",
    "outputId": "1a6b161d-7580-43a2-8fca-1789a733eef9"
   },
   "outputs": [
    {
     "name": "stdout",
     "output_type": "stream",
     "text": [
      "             Open          High           Low         Close     Adj Close  \\\n",
      "0    41883.089844  41994.261719  41770.898438  41952.628906  41952.628906   \n",
      "1    41969.859375  41969.859375  41648.109375  41872.730469  41872.730469   \n",
      "2    41924.738281  42059.449219  41812.281250  41932.558594  41932.558594   \n",
      "3    41929.019531  42063.929688  41850.289063  41945.371094  41945.371094   \n",
      "4    42263.000000  42273.871094  41503.371094  41528.910156  41528.910156   \n",
      "..            ...           ...           ...           ...           ...   \n",
      "108  35679.738281  35706.550781  34794.929688  34868.980469  34868.980469   \n",
      "109  34525.390625  35081.609375  34499.781250  34842.101563  34842.101563   \n",
      "110  35144.781250  35254.878906  34910.339844  35171.269531  35171.269531   \n",
      "111  34926.949219  35032.359375  34662.058594  34961.519531  34961.519531   \n",
      "112  35168.300781  35233.910156  34812.800781  34915.800781  34915.800781   \n",
      "\n",
      "      Volume  Subjectivity  Polarity  Compound  Negative  Neutral  Positive  \n",
      "0    14100.0      0.426605  0.126399   -0.9998     0.143    0.783     0.074  \n",
      "1     6100.0      0.381507  0.107825   -0.9998     0.140    0.784     0.076  \n",
      "2     6600.0      0.378463  0.124173   -0.9999     0.158    0.766     0.076  \n",
      "3     9500.0      0.397880  0.043625   -0.9999     0.172    0.760     0.067  \n",
      "4     7500.0      0.373201  0.070348   -0.9999     0.160    0.767     0.073  \n",
      "..       ...           ...       ...       ...       ...      ...       ...  \n",
      "108  26600.0      0.357032  0.074540   -0.9997     0.126    0.807     0.067  \n",
      "109  24600.0      0.355012  0.008858   -0.9999     0.152    0.796     0.052  \n",
      "110  24800.0      0.324106  0.066983   -0.9998     0.142    0.790     0.068  \n",
      "111  18300.0      0.370906  0.061918   -0.9998     0.130    0.800     0.069  \n",
      "112  18500.0      0.345426  0.056202   -0.9999     0.134    0.818     0.048  \n",
      "\n",
      "[113 rows x 12 columns]\n",
      "[[4.18830898e+04 4.19942617e+04 4.17708984e+04 ... 1.43000000e-01\n",
      "  7.83000000e-01 7.40000000e-02]\n",
      " [4.19698594e+04 4.19698594e+04 4.16481094e+04 ... 1.40000000e-01\n",
      "  7.84000000e-01 7.60000000e-02]\n",
      " [4.19247383e+04 4.20594492e+04 4.18122812e+04 ... 1.58000000e-01\n",
      "  7.66000000e-01 7.60000000e-02]\n",
      " ...\n",
      " [3.51447812e+04 3.52548789e+04 3.49103398e+04 ... 1.42000000e-01\n",
      "  7.90000000e-01 6.80000000e-02]\n",
      " [3.49269492e+04 3.50323594e+04 3.46620586e+04 ... 1.30000000e-01\n",
      "  8.00000000e-01 6.90000000e-02]\n",
      " [3.51683008e+04 3.52339102e+04 3.48128008e+04 ... 1.34000000e-01\n",
      "  8.18000000e-01 4.80000000e-02]]\n",
      "Index(['var1(t-1)', 'var2(t-1)', 'var3(t-1)', 'var4(t-1)', 'var5(t-1)',\n",
      "       'var6(t-1)', 'var7(t-1)', 'var8(t-1)', 'var9(t-1)', 'var10(t-1)',\n",
      "       'var11(t-1)', 'var12(t-1)', 'var4(t)'],\n",
      "      dtype='object')\n"
     ]
    }
   ],
   "source": [
    "# scale the data for optimal performance\n",
    "values = df_merge.values\n",
    "print(df_merge)\n",
    "print(values)\n",
    "values = values.astype('float32')\n",
    "# normalize features\n",
    "scaler = MinMaxScaler(feature_range=(0, 1))\n",
    "scaled = scaler.fit_transform(values)\n",
    "# frame as supervised learning\n",
    "reframed = series_to_supervised(scaled, 1, 1)\n",
    "# drop columns we don't want to predict\n",
    "reframed.drop(reframed.columns[[12,13,14,16,17,18,19,20,21,22,23]], axis=1, inplace=True)\n",
    "print(reframed.columns)"
   ]
  },
  {
   "cell_type": "markdown",
   "metadata": {
    "id": "6lnHts6uqgrD"
   },
   "source": [
    "### Building a **LSTM** **(Long Short Term Memory)** model to predict Stock Prices"
   ]
  },
  {
   "cell_type": "code",
   "execution_count": 22,
   "metadata": {
    "colab": {
     "base_uri": "https://localhost:8080/"
    },
    "id": "ze9mGTcBYaxM",
    "outputId": "cdd4f22d-fd65-4301-f2f8-3d405c52bd9c"
   },
   "outputs": [
    {
     "name": "stdout",
     "output_type": "stream",
     "text": [
      "(112, 13)\n",
      "(90, 1, 12) (90,) (22, 1, 12) (22,)\n"
     ]
    }
   ],
   "source": [
    "# split into train and test sets\n",
    "values = reframed.values\n",
    "print((values).shape)\n",
    "n_train_hours = 90\n",
    "train = values[:n_train_hours, :]\n",
    "test = values[n_train_hours:, :]\n",
    "# split into input and outputs\n",
    "train_X, train_y = train[:, :-1], train[:, -1]\n",
    "test_X, test_y = test[:, :-1], test[:, -1]\n",
    "# reshape input to be 3D [samples, timesteps, features]\n",
    "train_X = train_X.reshape((train_X.shape[0], 1, train_X.shape[1]))\n",
    "test_X = test_X.reshape((test_X.shape[0], 1, test_X.shape[1]))\n",
    "print(train_X.shape, train_y.shape, test_X.shape, test_y.shape)"
   ]
  },
  {
   "cell_type": "code",
   "execution_count": 23,
   "metadata": {
    "colab": {
     "base_uri": "https://localhost:8080/",
     "height": 1000
    },
    "id": "W0JIAPYrYbVc",
    "outputId": "02b392b6-e337-497e-cc19-518b1f3802bf"
   },
   "outputs": [
    {
     "name": "stderr",
     "output_type": "stream",
     "text": [
      "/home/nouaim/sparks/project5/venv/lib/python3.6/site-packages/tensorflow/python/framework/dtypes.py:516: FutureWarning: Passing (type, 1) or '1type' as a synonym of type is deprecated; in a future version of numpy, it will be understood as (type, (1,)) / '(1,)type'.\n",
      "  _np_qint8 = np.dtype([(\"qint8\", np.int8, 1)])\n",
      "/home/nouaim/sparks/project5/venv/lib/python3.6/site-packages/tensorflow/python/framework/dtypes.py:517: FutureWarning: Passing (type, 1) or '1type' as a synonym of type is deprecated; in a future version of numpy, it will be understood as (type, (1,)) / '(1,)type'.\n",
      "  _np_quint8 = np.dtype([(\"quint8\", np.uint8, 1)])\n",
      "/home/nouaim/sparks/project5/venv/lib/python3.6/site-packages/tensorflow/python/framework/dtypes.py:518: FutureWarning: Passing (type, 1) or '1type' as a synonym of type is deprecated; in a future version of numpy, it will be understood as (type, (1,)) / '(1,)type'.\n",
      "  _np_qint16 = np.dtype([(\"qint16\", np.int16, 1)])\n",
      "/home/nouaim/sparks/project5/venv/lib/python3.6/site-packages/tensorflow/python/framework/dtypes.py:519: FutureWarning: Passing (type, 1) or '1type' as a synonym of type is deprecated; in a future version of numpy, it will be understood as (type, (1,)) / '(1,)type'.\n",
      "  _np_quint16 = np.dtype([(\"quint16\", np.uint16, 1)])\n",
      "/home/nouaim/sparks/project5/venv/lib/python3.6/site-packages/tensorflow/python/framework/dtypes.py:520: FutureWarning: Passing (type, 1) or '1type' as a synonym of type is deprecated; in a future version of numpy, it will be understood as (type, (1,)) / '(1,)type'.\n",
      "  _np_qint32 = np.dtype([(\"qint32\", np.int32, 1)])\n",
      "/home/nouaim/sparks/project5/venv/lib/python3.6/site-packages/tensorflow/python/framework/dtypes.py:525: FutureWarning: Passing (type, 1) or '1type' as a synonym of type is deprecated; in a future version of numpy, it will be understood as (type, (1,)) / '(1,)type'.\n",
      "  np_resource = np.dtype([(\"resource\", np.ubyte, 1)])\n",
      "/home/nouaim/sparks/project5/venv/lib/python3.6/site-packages/tensorboard/compat/tensorflow_stub/dtypes.py:541: FutureWarning: Passing (type, 1) or '1type' as a synonym of type is deprecated; in a future version of numpy, it will be understood as (type, (1,)) / '(1,)type'.\n",
      "  _np_qint8 = np.dtype([(\"qint8\", np.int8, 1)])\n",
      "/home/nouaim/sparks/project5/venv/lib/python3.6/site-packages/tensorboard/compat/tensorflow_stub/dtypes.py:542: FutureWarning: Passing (type, 1) or '1type' as a synonym of type is deprecated; in a future version of numpy, it will be understood as (type, (1,)) / '(1,)type'.\n",
      "  _np_quint8 = np.dtype([(\"quint8\", np.uint8, 1)])\n",
      "/home/nouaim/sparks/project5/venv/lib/python3.6/site-packages/tensorboard/compat/tensorflow_stub/dtypes.py:543: FutureWarning: Passing (type, 1) or '1type' as a synonym of type is deprecated; in a future version of numpy, it will be understood as (type, (1,)) / '(1,)type'.\n",
      "  _np_qint16 = np.dtype([(\"qint16\", np.int16, 1)])\n",
      "/home/nouaim/sparks/project5/venv/lib/python3.6/site-packages/tensorboard/compat/tensorflow_stub/dtypes.py:544: FutureWarning: Passing (type, 1) or '1type' as a synonym of type is deprecated; in a future version of numpy, it will be understood as (type, (1,)) / '(1,)type'.\n",
      "  _np_quint16 = np.dtype([(\"quint16\", np.uint16, 1)])\n",
      "/home/nouaim/sparks/project5/venv/lib/python3.6/site-packages/tensorboard/compat/tensorflow_stub/dtypes.py:545: FutureWarning: Passing (type, 1) or '1type' as a synonym of type is deprecated; in a future version of numpy, it will be understood as (type, (1,)) / '(1,)type'.\n",
      "  _np_qint32 = np.dtype([(\"qint32\", np.int32, 1)])\n",
      "/home/nouaim/sparks/project5/venv/lib/python3.6/site-packages/tensorboard/compat/tensorflow_stub/dtypes.py:550: FutureWarning: Passing (type, 1) or '1type' as a synonym of type is deprecated; in a future version of numpy, it will be understood as (type, (1,)) / '(1,)type'.\n",
      "  np_resource = np.dtype([(\"resource\", np.ubyte, 1)])\n"
     ]
    },
    {
     "name": "stdout",
     "output_type": "stream",
     "text": [
      "WARNING:tensorflow:From /home/nouaim/sparks/project5/venv/lib/python3.6/site-packages/tensorflow/python/ops/init_ops.py:1251: calling VarianceScaling.__init__ (from tensorflow.python.ops.init_ops) with dtype is deprecated and will be removed in a future version.\n",
      "Instructions for updating:\n",
      "Call initializer instance with the dtype argument instead of passing it to the constructor\n",
      "Train on 90 samples, validate on 22 samples\n",
      "WARNING:tensorflow:From /home/nouaim/sparks/project5/venv/lib/python3.6/site-packages/tensorflow/python/ops/math_grad.py:1250: add_dispatch_support.<locals>.wrapper (from tensorflow.python.ops.array_ops) is deprecated and will be removed in a future version.\n",
      "Instructions for updating:\n",
      "Use tf.where in 2.0, which has the same broadcast rule as np.where\n",
      "Epoch 1/50\n",
      "90/90 - 2s - loss: 0.5813 - val_loss: 0.5111\n",
      "Epoch 2/50\n",
      "90/90 - 0s - loss: 0.5495 - val_loss: 0.4809\n",
      "Epoch 3/50\n",
      "90/90 - 0s - loss: 0.5181 - val_loss: 0.4507\n",
      "Epoch 4/50\n",
      "90/90 - 0s - loss: 0.4868 - val_loss: 0.4205\n",
      "Epoch 5/50\n",
      "90/90 - 0s - loss: 0.4556 - val_loss: 0.3901\n",
      "Epoch 6/50\n",
      "90/90 - 0s - loss: 0.4245 - val_loss: 0.3594\n",
      "Epoch 7/50\n",
      "90/90 - 0s - loss: 0.3934 - val_loss: 0.3285\n",
      "Epoch 8/50\n",
      "90/90 - 0s - loss: 0.3630 - val_loss: 0.2972\n",
      "Epoch 9/50\n",
      "90/90 - 0s - loss: 0.3331 - val_loss: 0.2656\n",
      "Epoch 10/50\n",
      "90/90 - 0s - loss: 0.3033 - val_loss: 0.2335\n",
      "Epoch 11/50\n",
      "90/90 - 0s - loss: 0.2730 - val_loss: 0.2008\n",
      "Epoch 12/50\n",
      "90/90 - 0s - loss: 0.2437 - val_loss: 0.1681\n",
      "Epoch 13/50\n",
      "90/90 - 0s - loss: 0.2186 - val_loss: 0.1362\n",
      "Epoch 14/50\n",
      "90/90 - 0s - loss: 0.1967 - val_loss: 0.1051\n",
      "Epoch 15/50\n",
      "90/90 - 0s - loss: 0.1788 - val_loss: 0.0764\n",
      "Epoch 16/50\n",
      "90/90 - 0s - loss: 0.1652 - val_loss: 0.0514\n",
      "Epoch 17/50\n",
      "90/90 - 0s - loss: 0.1547 - val_loss: 0.0361\n",
      "Epoch 18/50\n",
      "90/90 - 0s - loss: 0.1475 - val_loss: 0.0301\n",
      "Epoch 19/50\n",
      "90/90 - 0s - loss: 0.1418 - val_loss: 0.0274\n",
      "Epoch 20/50\n",
      "90/90 - 0s - loss: 0.1368 - val_loss: 0.0271\n",
      "Epoch 21/50\n",
      "90/90 - 0s - loss: 0.1323 - val_loss: 0.0268\n",
      "Epoch 22/50\n",
      "90/90 - 0s - loss: 0.1285 - val_loss: 0.0266\n",
      "Epoch 23/50\n",
      "90/90 - 0s - loss: 0.1249 - val_loss: 0.0264\n",
      "Epoch 24/50\n",
      "90/90 - 0s - loss: 0.1215 - val_loss: 0.0263\n",
      "Epoch 25/50\n",
      "90/90 - 0s - loss: 0.1183 - val_loss: 0.0263\n",
      "Epoch 26/50\n",
      "90/90 - 0s - loss: 0.1154 - val_loss: 0.0281\n",
      "Epoch 27/50\n",
      "90/90 - 0s - loss: 0.1128 - val_loss: 0.0304\n",
      "Epoch 28/50\n",
      "90/90 - 0s - loss: 0.1108 - val_loss: 0.0328\n",
      "Epoch 29/50\n",
      "90/90 - 0s - loss: 0.1091 - val_loss: 0.0352\n",
      "Epoch 30/50\n",
      "90/90 - 0s - loss: 0.1073 - val_loss: 0.0372\n",
      "Epoch 31/50\n",
      "90/90 - 0s - loss: 0.1054 - val_loss: 0.0382\n",
      "Epoch 32/50\n",
      "90/90 - 0s - loss: 0.1030 - val_loss: 0.0384\n",
      "Epoch 33/50\n",
      "90/90 - 0s - loss: 0.1000 - val_loss: 0.0375\n",
      "Epoch 34/50\n",
      "90/90 - 0s - loss: 0.0963 - val_loss: 0.0359\n",
      "Epoch 35/50\n",
      "90/90 - 0s - loss: 0.0924 - val_loss: 0.0342\n",
      "Epoch 36/50\n",
      "90/90 - 0s - loss: 0.0881 - val_loss: 0.0321\n",
      "Epoch 37/50\n",
      "90/90 - 0s - loss: 0.0836 - val_loss: 0.0300\n",
      "Epoch 38/50\n",
      "90/90 - 0s - loss: 0.0789 - val_loss: 0.0278\n",
      "Epoch 39/50\n",
      "90/90 - 0s - loss: 0.0742 - val_loss: 0.0262\n",
      "Epoch 40/50\n",
      "90/90 - 0s - loss: 0.0697 - val_loss: 0.0251\n",
      "Epoch 41/50\n",
      "90/90 - 0s - loss: 0.0656 - val_loss: 0.0242\n",
      "Epoch 42/50\n",
      "90/90 - 0s - loss: 0.0617 - val_loss: 0.0239\n",
      "Epoch 43/50\n",
      "90/90 - 0s - loss: 0.0582 - val_loss: 0.0244\n",
      "Epoch 44/50\n",
      "90/90 - 0s - loss: 0.0551 - val_loss: 0.0249\n",
      "Epoch 45/50\n",
      "90/90 - 0s - loss: 0.0530 - val_loss: 0.0251\n",
      "Epoch 46/50\n",
      "90/90 - 0s - loss: 0.0518 - val_loss: 0.0250\n",
      "Epoch 47/50\n",
      "90/90 - 0s - loss: 0.0511 - val_loss: 0.0248\n",
      "Epoch 48/50\n",
      "90/90 - 0s - loss: 0.0504 - val_loss: 0.0253\n",
      "Epoch 49/50\n",
      "90/90 - 0s - loss: 0.0503 - val_loss: 0.0261\n",
      "Epoch 50/50\n",
      "90/90 - 0s - loss: 0.0503 - val_loss: 0.0266\n"
     ]
    },
    {
     "data": {
      "image/png": "[encoded data removed]",
      "text/plain": [
       "<Figure size 432x288 with 1 Axes>"
      ]
     },
     "metadata": {
      "needs_background": "light"
     },
     "output_type": "display_data"
    }
   ],
   "source": [
    "# design the network\n",
    "from tensorflow import keras \n",
    "from tensorflow.keras.models import Sequential\n",
    "from tensorflow.keras.layers import Dense\n",
    "from tensorflow.keras.layers import LSTM\n",
    "from tensorflow.keras.layers import Dropout\n",
    "\n",
    "model = Sequential()\n",
    "model.add(LSTM(50, input_shape=(train_X.shape[1], train_X.shape[2])))\n",
    "model.add(Dense(1))\n",
    "model.compile(loss='mae', optimizer='adam') \n",
    "\n",
    "# fit network\n",
    "history = model.fit(train_X, train_y, epochs=50, batch_size=72, validation_data=(test_X, test_y), verbose=2, shuffle=False)\n",
    "\n",
    "# plot history\n",
    "pyplot.plot(history.history['loss'], label='train')\n",
    "pyplot.plot(history.history['val_loss'], label='test')\n",
    "pyplot.legend()\n",
    "pyplot.show()"
   ]
  },
  {
   "cell_type": "markdown",
   "metadata": {
    "id": "zsIZJGe6q8yp"
   },
   "source": [
    "### Evaluation of the LSTM model using test data by calculating **RMSE(Root Mean Square Error)**"
   ]
  },
  {
   "cell_type": "code",
   "execution_count": 24,
   "metadata": {
    "colab": {
     "base_uri": "https://localhost:8080/"
    },
    "id": "JQxDeAx8Ybin",
    "outputId": "5e2de18d-a9dd-4816-9650-b8e76d41a009"
   },
   "outputs": [
    {
     "name": "stdout",
     "output_type": "stream",
     "text": [
      "(22, 1, 12)\n",
      "(22, 1, 12)\n",
      "Test RMSE: 511.997\n"
     ]
    }
   ],
   "source": [
    "# make a prediction\n",
    "print(test_X.shape)\n",
    "test_X = test_X.reshape((test_X.shape[0], 1, test_X.shape[2]))\n",
    "print(test_X.shape)\n",
    "yhat = model.predict(test_X)\n",
    "test_X = test_X.reshape((test_X.shape[0], test_X.shape[2]))\n",
    "# invert scaling for forecast\n",
    "inv_yhat = concatenate((yhat, test_X[:, 1:]), axis=1)\n",
    "inv_yhat = scaler.inverse_transform(inv_yhat)\n",
    "inv_yhat = inv_yhat[:,0]\n",
    "# invert scaling for actual\n",
    "test_y = test_y.reshape((len(test_y), 1))\n",
    "inv_y = concatenate((test_y, test_X[:, 1:]), axis=1)\n",
    "inv_y = scaler.inverse_transform(inv_y)\n",
    "inv_y = inv_y[:,0]\n",
    "# calculate RMSE\n",
    "rmse = sqrt(mean_squared_error(inv_y, inv_yhat))\n",
    "print('Test RMSE: %.3f' % rmse)\n"
   ]
  },
  {
   "cell_type": "markdown",
   "metadata": {
    "id": "1VNcbWHcckS5"
   },
   "source": [
    "#  RMSE of **511**, i.e predicted prices can be off by 511 units \n",
    "## This is a good RMSE, considering the sensex prices are in the order of 4 (for eg, around 48k units). "
   ]
  }
 ],
 "metadata": {
  "colab": {
   "authorship_tag": "ABX9TyOAL04RqLTngPU6/J+HBqm7",
   "collapsed_sections": [],
   "include_colab_link": true,
   "name": "TSF.ipynb",
   "provenance": []
  },
  "kernelspec": {
   "display_name": "Python 3",
   "language": "python",
   "name": "python3"
  },
  "language_info": {
   "codemirror_mode": {
    "name": "ipython",
    "version": 3
   },
   "file_extension": ".py",
   "mimetype": "text/x-python",
   "name": "python",
   "nbconvert_exporter": "python",
   "pygments_lexer": "ipython3",
   "version": "3.6.9"
  }
 },
 "nbformat": 4,
 "nbformat_minor": 1
}
